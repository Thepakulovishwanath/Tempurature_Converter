{
 "cells": [
  {
   "cell_type": "code",
   "execution_count": 7,
   "id": "fba16521-bb18-4402-ad0e-bd9450c632c1",
   "metadata": {},
   "outputs": [
    {
     "name": "stdin",
     "output_type": "stream",
     "text": [
      "Enter a tempurature 100\n",
      "Enter tempurature related units(C for Celsius, F for Fahrenheit, K for Kelvin) k\n"
     ]
    },
    {
     "name": "stdout",
     "output_type": "stream",
     "text": [
      "100.0°K is equal to -173.15°C\n",
      "100.0°K is equal to -279.67 F\n"
     ]
    }
   ],
   "source": [
    "temp = float(input(\"Enter a temperature: \"))\n",
    "unit = input(\"Enter temperature unit (C for Celsius, F for Fahrenheit, K for Kelvin): \").upper()\n",
    "if unit==\"C\":\n",
    "    print(f\"{temp}°C is equal to {(temp * 9/5) + 32:.2f}°F\")\n",
    "    print(f\"{temp}°C is equal to {temp + 273.15:.2f} K\")\n",
    "elif unit==\"F\":\n",
    "    print(f\"{temp}°F is equal to {(temp - 32) * 5/9:.2f}°C\")\n",
    "    print(f\"{temp}°F is equal to {(temp - 32) * 5/9 + 273.15:.2f} K\")\n",
    "elif unit==\"K\":\n",
    "    print(f\"{temp}°K is equal to {temp - 273.15:.2f}°C\")\n",
    "    print(f\"{temp}°K is equal to {(temp - 273.15) * 9/5 + 32:.2f} F\")\n",
    "else:\n",
    "    print(\"Invalid unit entered. Please enter C, F, or K.\")\n"
   ]
  },
  {
   "cell_type": "code",
   "execution_count": null,
   "id": "c96747bb-a575-48ae-a21b-297afbd735fa",
   "metadata": {},
   "outputs": [],
   "source": []
  }
 ],
 "metadata": {
  "kernelspec": {
   "display_name": "Python 3 (ipykernel)",
   "language": "python",
   "name": "python3"
  },
  "language_info": {
   "codemirror_mode": {
    "name": "ipython",
    "version": 3
   },
   "file_extension": ".py",
   "mimetype": "text/x-python",
   "name": "python",
   "nbconvert_exporter": "python",
   "pygments_lexer": "ipython3",
   "version": "3.12.4"
  }
 },
 "nbformat": 4,
 "nbformat_minor": 5
}
